{
 "cells": [
  {
   "cell_type": "code",
   "execution_count": 2,
   "metadata": {},
   "outputs": [],
   "source": [
    "import pathlib\n",
    "import random\n",
    "\n",
    "import numpy as np\n",
    "import pandas as pd\n",
    "from pandas_profiling import ProfileReport\n",
    "import yaml\n",
    "\n",
    "from sklearn.model_selection import GridSearchCV, cross_val_predict\n",
    "from sklearn.tree import DecisionTreeClassifier\n",
    "from sklearn.compose import ColumnTransformer\n",
    "from sklearn.preprocessing import OneHotEncoder, StandardScaler, LabelEncoder\n",
    "from sklearn.pipeline import Pipeline\n",
    "from sklearn.linear_model import LogisticRegression\n",
    "from sklearn.naive_bayes import MultinomialNB, GaussianNB\n",
    "from sklearn.svm import LinearSVC"
   ]
  },
  {
   "cell_type": "code",
   "execution_count": 4,
   "metadata": {},
   "outputs": [],
   "source": [
    "SEED = 0\n",
    "np.random.seed(0)\n",
    "random.seed(0)"
   ]
  },
  {
   "cell_type": "code",
   "execution_count": 6,
   "metadata": {},
   "outputs": [
    {
     "output_type": "stream",
     "name": "stdout",
     "text": [
      "The autoreload extension is already loaded. To reload it, use:\n  %reload_ext autoreload\n"
     ]
    }
   ],
   "source": [
    "%load_ext autoreload\n",
    "%autoreload 2\n",
    "\n",
    "from heat_diss.preprocessing import clean_data, feature_target_split"
   ]
  },
  {
   "cell_type": "code",
   "execution_count": 8,
   "metadata": {},
   "outputs": [],
   "source": [
    "data_path = pathlib.Path(\"data\", \"data.zip\")"
   ]
  },
  {
   "cell_type": "code",
   "execution_count": 10,
   "metadata": {},
   "outputs": [],
   "source": [
    "data = pd.read_csv(data_path)\n",
    "data = data.infer_objects()"
   ]
  },
  {
   "cell_type": "code",
   "execution_count": 12,
   "metadata": {},
   "outputs": [],
   "source": [
    "profile = ProfileReport(data, title='Pandas Profiling Report', explorative=True)"
   ]
  },
  {
   "cell_type": "code",
   "execution_count": 14,
   "metadata": {},
   "outputs": [
    {
     "output_type": "display_data",
     "data": {
      "text/plain": "VBox(children=(Tab(children=(Tab(children=(GridBox(children=(VBox(children=(GridspecLayout(children=(HTML(valu…",
      "application/vnd.jupyter.widget-view+json": {
       "version_major": 2,
       "version_minor": 0,
       "model_id": "ad31f2a2a2864c84a83b45ef73205627"
      }
     },
     "metadata": {}
    }
   ],
   "source": [
    "profile.to_widgets()"
   ]
  },
  {
   "cell_type": "code",
   "execution_count": 16,
   "metadata": {},
   "outputs": [],
   "source": [
    "cleaned_data = clean_data(data, 4)\n",
    "features, target = feature_target_split(cleaned_data, \"target\")"
   ]
  },
  {
   "cell_type": "code",
   "execution_count": 18,
   "metadata": {},
   "outputs": [
    {
     "output_type": "execute_result",
     "data": {
      "text/plain": [
       "array([0, 1], dtype=int64)"
      ]
     },
     "metadata": {},
     "execution_count": 18
    }
   ],
   "source": [
    "np.unique(target)"
   ]
  },
  {
   "cell_type": "code",
   "execution_count": 20,
   "metadata": {},
   "outputs": [
    {
     "output_type": "stream",
     "name": "stdout",
     "text": [
      "<class 'pandas.core.frame.DataFrame'>\nInt64Index: 302 entries, 0 to 302\nData columns (total 13 columns):\n #   Column    Non-Null Count  Dtype   \n---  ------    --------------  -----   \n 0   age       302 non-null    int64   \n 1   sex       302 non-null    category\n 2   cp        302 non-null    category\n 3   trestbps  302 non-null    int64   \n 4   chol      302 non-null    int64   \n 5   fbs       302 non-null    category\n 6   restecg   302 non-null    category\n 7   thalach   302 non-null    int64   \n 8   exang     302 non-null    category\n 9   oldpeak   302 non-null    float64 \n 10  slope     302 non-null    category\n 11  ca        302 non-null    int64   \n 12  thal      302 non-null    category\ndtypes: category(7), float64(1), int64(5)\nmemory usage: 19.6 KB\n"
     ]
    }
   ],
   "source": [
    "features.info()"
   ]
  },
  {
   "cell_type": "code",
   "execution_count": 22,
   "metadata": {},
   "outputs": [],
   "source": [
    "cat_columns = [col for col in features.select_dtypes(\"category\").columns if len(features[col].unique()) > 2]\n",
    "num_columns = [col for col in features.select_dtypes(\"number\").columns]\n",
    "bin_variables = [col for col in features.select_dtypes(\"category\").columns if col not in cat_columns]"
   ]
  },
  {
   "cell_type": "code",
   "execution_count": 24,
   "metadata": {},
   "outputs": [
    {
     "output_type": "stream",
     "name": "stdout",
     "text": [
      "<class 'pandas.core.frame.DataFrame'>\nRangeIndex: 303 entries, 0 to 302\nData columns (total 14 columns):\n #   Column    Non-Null Count  Dtype  \n---  ------    --------------  -----  \n 0   age       303 non-null    int64  \n 1   sex       303 non-null    int64  \n 2   cp        303 non-null    int64  \n 3   trestbps  303 non-null    int64  \n 4   chol      303 non-null    int64  \n 5   fbs       303 non-null    int64  \n 6   restecg   303 non-null    int64  \n 7   thalach   303 non-null    int64  \n 8   exang     303 non-null    int64  \n 9   oldpeak   303 non-null    float64\n 10  slope     303 non-null    int64  \n 11  ca        303 non-null    int64  \n 12  thal      303 non-null    int64  \n 13  target    303 non-null    int64  \ndtypes: float64(1), int64(13)\nmemory usage: 33.3 KB\n"
     ]
    }
   ],
   "source": [
    "data.info()"
   ]
  },
  {
   "cell_type": "code",
   "execution_count": 26,
   "metadata": {},
   "outputs": [
    {
     "output_type": "execute_result",
     "data": {
      "text/plain": [
       "['sex', 'fbs', 'exang']"
      ]
     },
     "metadata": {},
     "execution_count": 26
    }
   ],
   "source": [
    "bin_variables"
   ]
  },
  {
   "cell_type": "code",
   "execution_count": 28,
   "metadata": {},
   "outputs": [
    {
     "output_type": "execute_result",
     "data": {
      "text/plain": [
       "['cp', 'restecg', 'slope', 'thal']"
      ]
     },
     "metadata": {},
     "execution_count": 28
    }
   ],
   "source": [
    "cat_columns"
   ]
  },
  {
   "cell_type": "code",
   "execution_count": 30,
   "metadata": {},
   "outputs": [
    {
     "output_type": "execute_result",
     "data": {
      "text/plain": [
       "['age', 'trestbps', 'chol', 'thalach', 'oldpeak', 'ca']"
      ]
     },
     "metadata": {},
     "execution_count": 30
    }
   ],
   "source": [
    "num_columns"
   ]
  },
  {
   "cell_type": "code",
   "execution_count": 32,
   "metadata": {},
   "outputs": [],
   "source": [
    "mapper = ColumnTransformer(\n",
    "    [ ('categorical', OneHotEncoder(handle_unknown=\"ignore\"), cat_columns),\n",
    "      (\"numeric\", StandardScaler(), num_columns)],\n",
    "     remainder='drop')"
   ]
  },
  {
   "cell_type": "code",
   "execution_count": 34,
   "metadata": {},
   "outputs": [
    {
     "output_type": "execute_result",
     "data": {
      "text/plain": [
       "array([[ 0.        ,  0.        ,  0.        , ...,  0.01882584,\n",
       "         1.08402203, -0.71491124],\n",
       "       [ 0.        ,  0.        ,  1.        , ...,  1.63697881,\n",
       "         2.11892611, -0.71491124],\n",
       "       [ 0.        ,  1.        ,  0.        , ...,  0.98097085,\n",
       "         0.30784398, -0.71491124],\n",
       "       ...,\n",
       "       [ 1.        ,  0.        ,  0.        , ..., -0.37477894,\n",
       "         2.0326841 ,  1.27497996],\n",
       "       [ 1.        ,  0.        ,  0.        , ..., -1.51185941,\n",
       "         0.13535997,  0.28003436],\n",
       "       [ 0.        ,  1.        ,  0.        , ...,  1.06843858,\n",
       "        -0.8995441 ,  0.28003436]])"
      ]
     },
     "metadata": {},
     "execution_count": 34
    }
   ],
   "source": [
    "mapper.fit_transform(features)"
   ]
  },
  {
   "cell_type": "code",
   "execution_count": 36,
   "metadata": {},
   "outputs": [],
   "source": [
    "pipeline = Pipeline([(\"feature_transform\", mapper), ('cls', LogisticRegression())])"
   ]
  },
  {
   "cell_type": "code",
   "execution_count": 38,
   "metadata": {},
   "outputs": [],
   "source": [
    "with open(\"test.yml\", \"w\", encoding=\"utf-8\") as file:\n",
    "    file.write(yaml.dump(pipeline))"
   ]
  },
  {
   "cell_type": "code",
   "execution_count": 40,
   "metadata": {},
   "outputs": [],
   "source": [
    "# pipeline.fit(features, target)"
   ]
  },
  {
   "cell_type": "code",
   "execution_count": 49,
   "metadata": {},
   "outputs": [],
   "source": [
    "scoring = {\"Accuracy\": \"accuracy\", \"f1_score\": \"f1\"}\n",
    "param_grid = {\n",
    "    \"cls__C\": [0.1, 1, 2, 10],\n",
    "    \"cls__max_iter\": [200, 300],\n",
    "    \"cls__penalty\": [\"l2\"]\n",
    "}"
   ]
  },
  {
   "cell_type": "code",
   "execution_count": 50,
   "metadata": {
    "tags": []
   },
   "outputs": [
    {
     "output_type": "execute_result",
     "data": {
      "text/plain": [
       "GridSearchCV(cv=3,\n",
       "             estimator=Pipeline(steps=[('feature_transform',\n",
       "                                        ColumnTransformer(transformers=[('categorical',\n",
       "                                                                         OneHotEncoder(handle_unknown='ignore'),\n",
       "                                                                         ['cp',\n",
       "                                                                          'restecg',\n",
       "                                                                          'slope',\n",
       "                                                                          'thal']),\n",
       "                                                                        ('numeric',\n",
       "                                                                         StandardScaler(),\n",
       "                                                                         ['age',\n",
       "                                                                          'trestbps',\n",
       "                                                                          'chol',\n",
       "                                                                          'thalach',\n",
       "                                                                          'oldpeak',\n",
       "                                                                          'ca'])])),\n",
       "                                       ('cls', LogisticRegression())]),\n",
       "             param_grid={'cls__C': [0.1, 1, 2, 10], 'cls__max_iter': [200, 300],\n",
       "                         'cls__penalty': ['l2']},\n",
       "             refit='f1_score', return_train_score=True,\n",
       "             scoring={'Accuracy': 'accuracy', 'f1_score': 'f1'})"
      ]
     },
     "metadata": {},
     "execution_count": 50
    }
   ],
   "source": [
    "gs = GridSearchCV(pipeline, param_grid=param_grid, scoring=scoring, refit=\"f1_score\", return_train_score=True, cv=3)\n",
    "\n",
    "gs.fit(features, target)"
   ]
  },
  {
   "cell_type": "code",
   "execution_count": 51,
   "metadata": {},
   "outputs": [],
   "source": [
    "results = pd.DataFrame.from_dict(gs.cv_results_)"
   ]
  },
  {
   "cell_type": "code",
   "execution_count": 52,
   "metadata": {},
   "outputs": [
    {
     "output_type": "execute_result",
     "data": {
      "text/plain": [
       "   mean_fit_time  std_fit_time  mean_score_time  std_score_time param_cls__C  \\\n",
       "2       0.014344      0.001245         0.005643        0.001694            1   \n",
       "3       0.013661      0.001257         0.004672        0.000477            1   \n",
       "\n",
       "  param_cls__max_iter param_cls__penalty  \\\n",
       "2                 200                 l2   \n",
       "3                 300                 l2   \n",
       "\n",
       "                                              params  split0_test_Accuracy  \\\n",
       "2  {'cls__C': 1, 'cls__max_iter': 200, 'cls__pena...              0.841584   \n",
       "3  {'cls__C': 1, 'cls__max_iter': 300, 'cls__pena...              0.841584   \n",
       "\n",
       "   split1_test_Accuracy  ...  split1_test_f1_score  split2_test_f1_score  \\\n",
       "2              0.861386  ...              0.867925              0.806723   \n",
       "3              0.861386  ...              0.867925              0.806723   \n",
       "\n",
       "   mean_test_f1_score  std_test_f1_score  rank_test_f1_score  \\\n",
       "2            0.846351           0.028058                   1   \n",
       "3            0.846351           0.028058                   1   \n",
       "\n",
       "   split0_train_f1_score  split1_train_f1_score  split2_train_f1_score  \\\n",
       "2               0.876106               0.862222               0.897778   \n",
       "3               0.876106               0.862222               0.897778   \n",
       "\n",
       "   mean_train_f1_score  std_train_f1_score  \n",
       "2             0.878702            0.014631  \n",
       "3             0.878702            0.014631  \n",
       "\n",
       "[2 rows x 30 columns]"
      ],
      "text/html": "<div>\n<style scoped>\n    .dataframe tbody tr th:only-of-type {\n        vertical-align: middle;\n    }\n\n    .dataframe tbody tr th {\n        vertical-align: top;\n    }\n\n    .dataframe thead th {\n        text-align: right;\n    }\n</style>\n<table border=\"1\" class=\"dataframe\">\n  <thead>\n    <tr style=\"text-align: right;\">\n      <th></th>\n      <th>mean_fit_time</th>\n      <th>std_fit_time</th>\n      <th>mean_score_time</th>\n      <th>std_score_time</th>\n      <th>param_cls__C</th>\n      <th>param_cls__max_iter</th>\n      <th>param_cls__penalty</th>\n      <th>params</th>\n      <th>split0_test_Accuracy</th>\n      <th>split1_test_Accuracy</th>\n      <th>...</th>\n      <th>split1_test_f1_score</th>\n      <th>split2_test_f1_score</th>\n      <th>mean_test_f1_score</th>\n      <th>std_test_f1_score</th>\n      <th>rank_test_f1_score</th>\n      <th>split0_train_f1_score</th>\n      <th>split1_train_f1_score</th>\n      <th>split2_train_f1_score</th>\n      <th>mean_train_f1_score</th>\n      <th>std_train_f1_score</th>\n    </tr>\n  </thead>\n  <tbody>\n    <tr>\n      <th>2</th>\n      <td>0.014344</td>\n      <td>0.001245</td>\n      <td>0.005643</td>\n      <td>0.001694</td>\n      <td>1</td>\n      <td>200</td>\n      <td>l2</td>\n      <td>{'cls__C': 1, 'cls__max_iter': 200, 'cls__pena...</td>\n      <td>0.841584</td>\n      <td>0.861386</td>\n      <td>...</td>\n      <td>0.867925</td>\n      <td>0.806723</td>\n      <td>0.846351</td>\n      <td>0.028058</td>\n      <td>1</td>\n      <td>0.876106</td>\n      <td>0.862222</td>\n      <td>0.897778</td>\n      <td>0.878702</td>\n      <td>0.014631</td>\n    </tr>\n    <tr>\n      <th>3</th>\n      <td>0.013661</td>\n      <td>0.001257</td>\n      <td>0.004672</td>\n      <td>0.000477</td>\n      <td>1</td>\n      <td>300</td>\n      <td>l2</td>\n      <td>{'cls__C': 1, 'cls__max_iter': 300, 'cls__pena...</td>\n      <td>0.841584</td>\n      <td>0.861386</td>\n      <td>...</td>\n      <td>0.867925</td>\n      <td>0.806723</td>\n      <td>0.846351</td>\n      <td>0.028058</td>\n      <td>1</td>\n      <td>0.876106</td>\n      <td>0.862222</td>\n      <td>0.897778</td>\n      <td>0.878702</td>\n      <td>0.014631</td>\n    </tr>\n  </tbody>\n</table>\n<p>2 rows × 30 columns</p>\n</div>"
     },
     "metadata": {},
     "execution_count": 52
    }
   ],
   "source": [
    "results[results[\"rank_test_Accuracy\"] <= 2]"
   ]
  },
  {
   "cell_type": "code",
   "execution_count": null,
   "metadata": {},
   "outputs": [],
   "source": []
  }
 ],
 "metadata": {
  "kernelspec": {
   "name": "python388jvsc74a57bd0132fc281cc517563f709050d2d1c43526f63ce884feb15146ab1f3ed592e13ae",
   "display_name": "Python 3.8.8 64-bit ('ml-prod1': conda)"
  },
  "language_info": {
   "codemirror_mode": {
    "name": "ipython",
    "version": 3
   },
   "file_extension": ".py",
   "mimetype": "text/x-python",
   "name": "python",
   "nbconvert_exporter": "python",
   "pygments_lexer": "ipython3",
   "version": "3.8.8"
  },
  "metadata": {
   "interpreter": {
    "hash": "132fc281cc517563f709050d2d1c43526f63ce884feb15146ab1f3ed592e13ae"
   }
  }
 },
 "nbformat": 4,
 "nbformat_minor": 4
}