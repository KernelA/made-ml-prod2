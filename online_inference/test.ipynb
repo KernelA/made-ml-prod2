{
 "metadata": {
  "language_info": {
   "codemirror_mode": {
    "name": "ipython",
    "version": 3
   },
   "file_extension": ".py",
   "mimetype": "text/x-python",
   "name": "python",
   "nbconvert_exporter": "python",
   "pygments_lexer": "ipython3",
   "version": "3.8.8"
  },
  "orig_nbformat": 2,
  "kernelspec": {
   "name": "python388jvsc74a57bd0132fc281cc517563f709050d2d1c43526f63ce884feb15146ab1f3ed592e13ae",
   "display_name": "Python 3.8.8 64-bit ('ml-prod1': conda)"
  }
 },
 "nbformat": 4,
 "nbformat_minor": 2,
 "cells": [
  {
   "cell_type": "code",
   "execution_count": 12,
   "metadata": {},
   "outputs": [],
   "source": [
    "import pathlib\n",
    "\n",
    "from heat_diss_app.utils import load_pickle"
   ]
  },
  {
   "cell_type": "code",
   "execution_count": 13,
   "metadata": {},
   "outputs": [],
   "source": [
    "pipelien_path = pathlib.Path(\"models\", \"svc\", \"svc.pickle\")"
   ]
  },
  {
   "cell_type": "code",
   "execution_count": 17,
   "metadata": {},
   "outputs": [],
   "source": [
    "pipeline = load_pickle(pipelien_path)"
   ]
  },
  {
   "cell_type": "code",
   "execution_count": 18,
   "metadata": {},
   "outputs": [
    {
     "output_type": "execute_result",
     "data": {
      "text/plain": [
       "Pipeline(steps=[('feature_transform',\n",
       "                 ColumnTransformer(transformers=[('normalize', StandardScaler(),\n",
       "                                                  Index(['age', 'trestbps', 'chol', 'thalach', 'oldpeak', 'ca'], dtype='object')),\n",
       "                                                 ('binary_encoder',\n",
       "                                                  OrdinalEncoder(),\n",
       "                                                  Index(['sex', 'fbs', 'exang'], dtype='object')),\n",
       "                                                 ('one_hot_encoding',\n",
       "                                                  OneHotEncoder(handle_unknown='ignore',\n",
       "                                                                sparse=False),\n",
       "                                                  Index(['cp', 'restecg', 'slope', 'thal'], dtype='object'))])),\n",
       "                ('cls', SVC(C=2, max_iter=400, probability=True))])"
      ]
     },
     "metadata": {},
     "execution_count": 18
    }
   ],
   "source": [
    "pipeline"
   ]
  },
  {
   "cell_type": "code",
   "execution_count": 2,
   "metadata": {},
   "outputs": [],
   "source": [
    "data = \"\"\"age,sex,cp,trestbps,chol,fbs,restecg,thalach,exang,oldpeak,slope,ca,thal,target\n",
    "66,0,3,150,226,0,1,114,0,2.6,0,0,2,1\"\"\""
   ]
  },
  {
   "cell_type": "code",
   "execution_count": 4,
   "metadata": {},
   "outputs": [],
   "source": [
    "splits = data.splitlines()"
   ]
  },
  {
   "cell_type": "code",
   "execution_count": 5,
   "metadata": {},
   "outputs": [],
   "source": [
    "for i in range(2):\n",
    "    splits[i] = splits[i].split(\",\")"
   ]
  },
  {
   "cell_type": "code",
   "execution_count": 13,
   "metadata": {},
   "outputs": [],
   "source": [
    "splits[1] = list(map(float, splits[1]))"
   ]
  },
  {
   "cell_type": "code",
   "execution_count": 14,
   "metadata": {},
   "outputs": [],
   "source": [
    "example = dict()\n",
    "for key, val in zip(*splits):\n",
    "    example[key] = val"
   ]
  },
  {
   "cell_type": "code",
   "execution_count": 15,
   "metadata": {},
   "outputs": [
    {
     "output_type": "execute_result",
     "data": {
      "text/plain": [
       "{'age': 66.0,\n",
       " 'sex': 0.0,\n",
       " 'cp': 3.0,\n",
       " 'trestbps': 150.0,\n",
       " 'chol': 226.0,\n",
       " 'fbs': 0.0,\n",
       " 'restecg': 1.0,\n",
       " 'thalach': 114.0,\n",
       " 'exang': 0.0,\n",
       " 'oldpeak': 2.6,\n",
       " 'slope': 0.0,\n",
       " 'ca': 0.0,\n",
       " 'thal': 2.0,\n",
       " 'target': 1.0}"
      ]
     },
     "metadata": {},
     "execution_count": 15
    }
   ],
   "source": [
    "   example "
   ]
  },
  {
   "cell_type": "code",
   "execution_count": 9,
   "metadata": {},
   "outputs": [],
   "source": [
    "import json"
   ]
  },
  {
   "cell_type": "code",
   "execution_count": 12,
   "metadata": {},
   "outputs": [
    {
     "output_type": "execute_result",
     "data": {
      "text/plain": [
       "'{\"age\": \"66\", \"sex\": \"0\", \"cp\": \"3\", \"trestbps\": \"150\", \"chol\": \"226\", \"fbs\": \"0\", \"restecg\": \"1\", \"thalach\": \"114\", \"exang\": \"0\", \"oldpeak\": \"2.6\", \"slope\": \"0\", \"ca\": \"0\", \"thal\": \"2\", \"target\": \"1\"}'"
      ]
     },
     "metadata": {},
     "execution_count": 12
    }
   ],
   "source": [
    "json.dumps(example)"
   ]
  },
  {
   "cell_type": "code",
   "execution_count": null,
   "metadata": {},
   "outputs": [],
   "source": []
  }
 ]
}